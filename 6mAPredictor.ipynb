{
  "nbformat": 4,
  "nbformat_minor": 0,
  "metadata": {
    "colab": {
      "name": "6mAPredictor.ipynb",
      "provenance": [],
      "authorship_tag": "ABX9TyNdxeEN6CkU/GjaMOHhfVdd",
      "include_colab_link": true
    },
    "kernelspec": {
      "name": "python3",
      "display_name": "Python 3"
    }
  },
  "cells": [
    {
      "cell_type": "markdown",
      "metadata": {
        "id": "view-in-github",
        "colab_type": "text"
      },
      "source": [
        "<a href=\"https://colab.research.google.com/github/RolandHewage/EpigeneticPredictor/blob/master/6mAPredictor.ipynb\" target=\"_parent\"><img src=\"https://colab.research.google.com/assets/colab-badge.svg\" alt=\"Open In Colab\"/></a>"
      ]
    },
    {
      "cell_type": "code",
      "metadata": {
        "id": "D_Pb9kPcNaai",
        "colab_type": "code",
        "colab": {}
      },
      "source": [
        "import numpy as np\n",
        "import pandas as pd\n",
        "\n",
        "try:\n",
        "  # %tensorflow_version only exists in Colab.\n",
        "  %tensorflow_version 2.x\n",
        "except Exception:\n",
        "  pass\n",
        "import tensorflow as tf\n",
        "# device_name = tf.test.gpu_device_name()\n",
        "# if device_name != '/device:GPU:0':\n",
        "#   raise SystemError('GPU device not found')\n",
        "# print('Found GPU at: {}'.format(device_name))\n",
        "\n",
        "from tensorflow import feature_column\n",
        "from tensorflow.keras import layers\n",
        "from sklearn.model_selection import train_test_split"
      ],
      "execution_count": 0,
      "outputs": []
    },
    {
      "cell_type": "code",
      "metadata": {
        "id": "XFIACjBrNuys",
        "colab_type": "code",
        "colab": {
          "base_uri": "https://localhost:8080/",
          "height": 85
        },
        "outputId": "f8bffc19-be1f-4004-f622-afc88c34c08f"
      },
      "source": [
        "tensorflow_version"
      ],
      "execution_count": 15,
      "outputs": [
        {
          "output_type": "stream",
          "text": [
            "Currently selected TF version: 2.x\n",
            "Available versions:\n",
            "* 1.x\n",
            "* 2.x\n"
          ],
          "name": "stdout"
        }
      ]
    },
    {
      "cell_type": "markdown",
      "metadata": {
        "id": "44cKtg1FabZ9",
        "colab_type": "text"
      },
      "source": [
        "Download the model from the [link](https://drive.google.com/file/d/1zUZAnWuRsFqhgwkXHi-ccSaMxU8k1pMx/view) and upload the model to a folder VGG16_17 in your google drive. Next connect colab to your drive by executing following code block"
      ]
    },
    {
      "cell_type": "code",
      "metadata": {
        "id": "0TQPQ3gHNwvE",
        "colab_type": "code",
        "colab": {
          "base_uri": "https://localhost:8080/",
          "height": 34
        },
        "outputId": "af225986-9b5f-415b-a84f-1540d2b97e41"
      },
      "source": [
        "from google.colab import drive\n",
        "drive.mount('/content/drive', force_remount=True)"
      ],
      "execution_count": 16,
      "outputs": [
        {
          "output_type": "stream",
          "text": [
            "Mounted at /content/drive\n"
          ],
          "name": "stdout"
        }
      ]
    },
    {
      "cell_type": "code",
      "metadata": {
        "id": "7CSpTkekON8F",
        "colab_type": "code",
        "colab": {
          "base_uri": "https://localhost:8080/",
          "height": 85
        },
        "outputId": "f7e88b92-61d1-49a8-dae2-c77f98b191a2"
      },
      "source": [
        "!ls 'drive/My Drive/VGG16_17'"
      ],
      "execution_count": 17,
      "outputs": [
        {
          "output_type": "stream",
          "text": [
            "CrossData_Negative_Original.csv  model2.h5  model6.h5  performance.txt\n",
            "CrossData_Positive_Original.csv  model3.h5  model7.h5  testing_ROC.png\n",
            "model10.h5\t\t\t model4.h5  model8.h5  training_ROC.png\n",
            "model1.h5\t\t\t model5.h5  model9.h5  validation_ROC.png\n"
          ],
          "name": "stdout"
        }
      ]
    },
    {
      "cell_type": "code",
      "metadata": {
        "id": "vZPYK9xmOao3",
        "colab_type": "code",
        "colab": {}
      },
      "source": [
        "from tensorflow.keras import models    \n",
        "\n",
        "model = models.load_model('drive/My Drive/VGG16_17/model1.h5')"
      ],
      "execution_count": 0,
      "outputs": []
    },
    {
      "cell_type": "code",
      "metadata": {
        "id": "Ayqreu9NOkMz",
        "colab_type": "code",
        "colab": {}
      },
      "source": [
        "def dataProcessing(line):\n",
        "\n",
        "    \n",
        "    alphabet = np.array(['A', 'G', 'T', 'C'])\n",
        "    X = [];\n",
        "    y = [];\n",
        "    \n",
        "\n",
        "    line = list(line.strip('\\n'));\n",
        "        \n",
        "    seq = np.array(line, dtype = '|U1').reshape(-1,1);\n",
        "    seq_data = []\n",
        "    seqrol = []\n",
        "\n",
        "    for i in range(len(seq)):\n",
        "        if seq[i] == 'A':\n",
        "            seq_data.append(rol)\n",
        "        if seq[i] == 'T':\n",
        "            seq_data.append(rol1)\n",
        "        if seq[i] == 'C':\n",
        "            seq_data.append(rol2)\n",
        "        if seq[i] == 'G':\n",
        "            seq_data.append(rol3)\n",
        "\n",
        "    for i in range(7):\n",
        "      seq_data.append(rol4)\n",
        "    X.append(np.array(seq_data));\n",
        "    \n",
        "    X = np.array(X);\n",
        " \n",
        "    return X; "
      ],
      "execution_count": 0,
      "outputs": []
    },
    {
      "cell_type": "code",
      "metadata": {
        "id": "ELEeA0xdPCZL",
        "colab_type": "code",
        "colab": {
          "base_uri": "https://localhost:8080/",
          "height": 71
        },
        "outputId": "ffabc628-954c-4401-d6cc-eb6914387f87"
      },
      "source": [
        "rol = []\n",
        "for x in range(48):\n",
        "  if x in range(12):\n",
        "    rol.append([1,1,1])\n",
        "  else:\n",
        "    rol.append([0,0,0])\n",
        "print(rol)\n",
        "print(type(rol))"
      ],
      "execution_count": 20,
      "outputs": [
        {
          "output_type": "stream",
          "text": [
            "[[1, 1, 1], [1, 1, 1], [1, 1, 1], [1, 1, 1], [1, 1, 1], [1, 1, 1], [1, 1, 1], [1, 1, 1], [1, 1, 1], [1, 1, 1], [1, 1, 1], [1, 1, 1], [0, 0, 0], [0, 0, 0], [0, 0, 0], [0, 0, 0], [0, 0, 0], [0, 0, 0], [0, 0, 0], [0, 0, 0], [0, 0, 0], [0, 0, 0], [0, 0, 0], [0, 0, 0], [0, 0, 0], [0, 0, 0], [0, 0, 0], [0, 0, 0], [0, 0, 0], [0, 0, 0], [0, 0, 0], [0, 0, 0], [0, 0, 0], [0, 0, 0], [0, 0, 0], [0, 0, 0], [0, 0, 0], [0, 0, 0], [0, 0, 0], [0, 0, 0], [0, 0, 0], [0, 0, 0], [0, 0, 0], [0, 0, 0], [0, 0, 0], [0, 0, 0], [0, 0, 0], [0, 0, 0]]\n",
            "<class 'list'>\n"
          ],
          "name": "stdout"
        }
      ]
    },
    {
      "cell_type": "code",
      "metadata": {
        "id": "SQK7ws3pPGWK",
        "colab_type": "code",
        "colab": {
          "base_uri": "https://localhost:8080/",
          "height": 71
        },
        "outputId": "c538d865-fb0d-4c9b-dcf4-33765587da2f"
      },
      "source": [
        "rol1 = []\n",
        "for x in range(48):\n",
        "  if x in range(12,24):\n",
        "    rol1.append([1,1,1])\n",
        "  else:\n",
        "    rol1.append([0,0,0])\n",
        "print(rol1)\n",
        "print(type(rol1))"
      ],
      "execution_count": 21,
      "outputs": [
        {
          "output_type": "stream",
          "text": [
            "[[0, 0, 0], [0, 0, 0], [0, 0, 0], [0, 0, 0], [0, 0, 0], [0, 0, 0], [0, 0, 0], [0, 0, 0], [0, 0, 0], [0, 0, 0], [0, 0, 0], [0, 0, 0], [1, 1, 1], [1, 1, 1], [1, 1, 1], [1, 1, 1], [1, 1, 1], [1, 1, 1], [1, 1, 1], [1, 1, 1], [1, 1, 1], [1, 1, 1], [1, 1, 1], [1, 1, 1], [0, 0, 0], [0, 0, 0], [0, 0, 0], [0, 0, 0], [0, 0, 0], [0, 0, 0], [0, 0, 0], [0, 0, 0], [0, 0, 0], [0, 0, 0], [0, 0, 0], [0, 0, 0], [0, 0, 0], [0, 0, 0], [0, 0, 0], [0, 0, 0], [0, 0, 0], [0, 0, 0], [0, 0, 0], [0, 0, 0], [0, 0, 0], [0, 0, 0], [0, 0, 0], [0, 0, 0]]\n",
            "<class 'list'>\n"
          ],
          "name": "stdout"
        }
      ]
    },
    {
      "cell_type": "code",
      "metadata": {
        "id": "J0JIWBjuPJPy",
        "colab_type": "code",
        "colab": {
          "base_uri": "https://localhost:8080/",
          "height": 71
        },
        "outputId": "eec6abcf-dd98-4455-8390-0072d9f00837"
      },
      "source": [
        "rol2 = []\n",
        "for x in range(48):\n",
        "  if x in range(24,36):\n",
        "    rol2.append([1,1,1])\n",
        "  else:\n",
        "    rol2.append([0,0,0])\n",
        "print(rol2)\n",
        "print(type(rol2))"
      ],
      "execution_count": 22,
      "outputs": [
        {
          "output_type": "stream",
          "text": [
            "[[0, 0, 0], [0, 0, 0], [0, 0, 0], [0, 0, 0], [0, 0, 0], [0, 0, 0], [0, 0, 0], [0, 0, 0], [0, 0, 0], [0, 0, 0], [0, 0, 0], [0, 0, 0], [0, 0, 0], [0, 0, 0], [0, 0, 0], [0, 0, 0], [0, 0, 0], [0, 0, 0], [0, 0, 0], [0, 0, 0], [0, 0, 0], [0, 0, 0], [0, 0, 0], [0, 0, 0], [1, 1, 1], [1, 1, 1], [1, 1, 1], [1, 1, 1], [1, 1, 1], [1, 1, 1], [1, 1, 1], [1, 1, 1], [1, 1, 1], [1, 1, 1], [1, 1, 1], [1, 1, 1], [0, 0, 0], [0, 0, 0], [0, 0, 0], [0, 0, 0], [0, 0, 0], [0, 0, 0], [0, 0, 0], [0, 0, 0], [0, 0, 0], [0, 0, 0], [0, 0, 0], [0, 0, 0]]\n",
            "<class 'list'>\n"
          ],
          "name": "stdout"
        }
      ]
    },
    {
      "cell_type": "code",
      "metadata": {
        "id": "VJKOTKsCPQH7",
        "colab_type": "code",
        "colab": {
          "base_uri": "https://localhost:8080/",
          "height": 71
        },
        "outputId": "de7ecbc7-0d1c-42c6-cc1c-a6890be8a1dc"
      },
      "source": [
        "rol3 = []\n",
        "for x in range(48):\n",
        "  if x in range(36,48):\n",
        "    rol3.append([1,1,1])\n",
        "  else:\n",
        "    rol3.append([0,0,0])\n",
        "print(rol3)\n",
        "print(type(rol3))"
      ],
      "execution_count": 23,
      "outputs": [
        {
          "output_type": "stream",
          "text": [
            "[[0, 0, 0], [0, 0, 0], [0, 0, 0], [0, 0, 0], [0, 0, 0], [0, 0, 0], [0, 0, 0], [0, 0, 0], [0, 0, 0], [0, 0, 0], [0, 0, 0], [0, 0, 0], [0, 0, 0], [0, 0, 0], [0, 0, 0], [0, 0, 0], [0, 0, 0], [0, 0, 0], [0, 0, 0], [0, 0, 0], [0, 0, 0], [0, 0, 0], [0, 0, 0], [0, 0, 0], [0, 0, 0], [0, 0, 0], [0, 0, 0], [0, 0, 0], [0, 0, 0], [0, 0, 0], [0, 0, 0], [0, 0, 0], [0, 0, 0], [0, 0, 0], [0, 0, 0], [0, 0, 0], [1, 1, 1], [1, 1, 1], [1, 1, 1], [1, 1, 1], [1, 1, 1], [1, 1, 1], [1, 1, 1], [1, 1, 1], [1, 1, 1], [1, 1, 1], [1, 1, 1], [1, 1, 1]]\n",
            "<class 'list'>\n"
          ],
          "name": "stdout"
        }
      ]
    },
    {
      "cell_type": "code",
      "metadata": {
        "id": "O-gXHwGxPSup",
        "colab_type": "code",
        "colab": {
          "base_uri": "https://localhost:8080/",
          "height": 71
        },
        "outputId": "47455cf2-e02c-4e6c-b65c-57d0506bff84"
      },
      "source": [
        "rol4 = []\n",
        "for x in range(48):\n",
        "  rol4.append([0,0,0])\n",
        "print(rol4)\n",
        "print(type(rol4))"
      ],
      "execution_count": 24,
      "outputs": [
        {
          "output_type": "stream",
          "text": [
            "[[0, 0, 0], [0, 0, 0], [0, 0, 0], [0, 0, 0], [0, 0, 0], [0, 0, 0], [0, 0, 0], [0, 0, 0], [0, 0, 0], [0, 0, 0], [0, 0, 0], [0, 0, 0], [0, 0, 0], [0, 0, 0], [0, 0, 0], [0, 0, 0], [0, 0, 0], [0, 0, 0], [0, 0, 0], [0, 0, 0], [0, 0, 0], [0, 0, 0], [0, 0, 0], [0, 0, 0], [0, 0, 0], [0, 0, 0], [0, 0, 0], [0, 0, 0], [0, 0, 0], [0, 0, 0], [0, 0, 0], [0, 0, 0], [0, 0, 0], [0, 0, 0], [0, 0, 0], [0, 0, 0], [0, 0, 0], [0, 0, 0], [0, 0, 0], [0, 0, 0], [0, 0, 0], [0, 0, 0], [0, 0, 0], [0, 0, 0], [0, 0, 0], [0, 0, 0], [0, 0, 0], [0, 0, 0]]\n",
            "<class 'list'>\n"
          ],
          "name": "stdout"
        }
      ]
    },
    {
      "cell_type": "markdown",
      "metadata": {
        "id": "M5-t2BvbUmVU",
        "colab_type": "text"
      },
      "source": [
        "Input the DNA sequence to test inside the brackets eg:-  dataProcessing1('GTATAATTTATATTTCCAGCAGAAATAGGAACTCCATCAAG')"
      ]
    },
    {
      "cell_type": "code",
      "metadata": {
        "id": "gfngF2_HPU4k",
        "colab_type": "code",
        "colab": {}
      },
      "source": [
        "preprocessedSequence = dataProcessing('GTATAATTTATATTTCCAGCAGAAATAGGAACTCCATCAAG');"
      ],
      "execution_count": 0,
      "outputs": []
    },
    {
      "cell_type": "code",
      "metadata": {
        "id": "yFEA7q9LPrrP",
        "colab_type": "code",
        "colab": {
          "base_uri": "https://localhost:8080/",
          "height": 51
        },
        "outputId": "ceb3ebfd-17e8-4ca4-f2a8-e9d77e3908e4"
      },
      "source": [
        "result = model.predict(preprocessedSequence)\n",
        "print(\"Result\", result)\n",
        "if result > 0.5 :\n",
        "  print(\"6mA site\")\n",
        "else :\n",
        "  print(\"Not 6mA site\")"
      ],
      "execution_count": 26,
      "outputs": [
        {
          "output_type": "stream",
          "text": [
            "Result [[0.99994755]]\n",
            "6mA site\n"
          ],
          "name": "stdout"
        }
      ]
    }
  ]
}