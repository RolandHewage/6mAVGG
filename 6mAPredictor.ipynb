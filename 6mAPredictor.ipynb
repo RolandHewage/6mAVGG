{
  "nbformat": 4,
  "nbformat_minor": 0,
  "metadata": {
    "colab": {
      "name": "6mAPredictor.ipynb",
      "provenance": [],
      "authorship_tag": "ABX9TyPL+xsdkAGCCCEcNKm2Fr+H",
      "include_colab_link": true
    },
    "kernelspec": {
      "name": "python3",
      "display_name": "Python 3"
    }
  },
  "cells": [
    {
      "cell_type": "markdown",
      "metadata": {
        "id": "view-in-github",
        "colab_type": "text"
      },
      "source": [
        "<a href=\"https://colab.research.google.com/github/RolandHewage/EpigeneticPredictor/blob/master/6mAPredictor.ipynb\" target=\"_parent\"><img src=\"https://colab.research.google.com/assets/colab-badge.svg\" alt=\"Open In Colab\"/></a>"
      ]
    },
    {
      "cell_type": "code",
      "metadata": {
        "id": "D_Pb9kPcNaai",
        "colab_type": "code",
        "colab": {}
      },
      "source": [
        "import numpy as np\n",
        "import pandas as pd\n",
        "\n",
        "try:\n",
        "  # %tensorflow_version only exists in Colab.\n",
        "  %tensorflow_version 2.x\n",
        "except Exception:\n",
        "  pass\n",
        "import tensorflow as tf\n",
        "# device_name = tf.test.gpu_device_name()\n",
        "# if device_name != '/device:GPU:0':\n",
        "#   raise SystemError('GPU device not found')\n",
        "# print('Found GPU at: {}'.format(device_name))\n",
        "\n",
        "from tensorflow import feature_column\n",
        "from tensorflow.keras import layers\n",
        "from sklearn.model_selection import train_test_split"
      ],
      "execution_count": 0,
      "outputs": []
    },
    {
      "cell_type": "code",
      "metadata": {
        "id": "XFIACjBrNuys",
        "colab_type": "code",
        "colab": {
          "base_uri": "https://localhost:8080/",
          "height": 85
        },
        "outputId": "b1e00b69-2d7e-488f-8691-8dd20f1a9b0f"
      },
      "source": [
        "tensorflow_version"
      ],
      "execution_count": 2,
      "outputs": [
        {
          "output_type": "stream",
          "text": [
            "Currently selected TF version: 2.x\n",
            "Available versions:\n",
            "* 1.x\n",
            "* 2.x\n"
          ],
          "name": "stdout"
        }
      ]
    },
    {
      "cell_type": "code",
      "metadata": {
        "id": "0TQPQ3gHNwvE",
        "colab_type": "code",
        "colab": {
          "base_uri": "https://localhost:8080/",
          "height": 122
        },
        "outputId": "6a1e8168-c417-49d4-9aa4-c08a3fb99fb9"
      },
      "source": [
        "from google.colab import drive\n",
        "drive.mount('/content/drive', force_remount=True)"
      ],
      "execution_count": 3,
      "outputs": [
        {
          "output_type": "stream",
          "text": [
            "Go to this URL in a browser: https://accounts.google.com/o/oauth2/auth?client_id=947318989803-6bn6qk8qdgf4n4g3pfee6491hc0brc4i.apps.googleusercontent.com&redirect_uri=urn%3aietf%3awg%3aoauth%3a2.0%3aoob&response_type=code&scope=email%20https%3a%2f%2fwww.googleapis.com%2fauth%2fdocs.test%20https%3a%2f%2fwww.googleapis.com%2fauth%2fdrive%20https%3a%2f%2fwww.googleapis.com%2fauth%2fdrive.photos.readonly%20https%3a%2f%2fwww.googleapis.com%2fauth%2fpeopleapi.readonly\n",
            "\n",
            "Enter your authorization code:\n",
            "··········\n",
            "Mounted at /content/drive\n"
          ],
          "name": "stdout"
        }
      ]
    },
    {
      "cell_type": "code",
      "metadata": {
        "id": "7CSpTkekON8F",
        "colab_type": "code",
        "colab": {
          "base_uri": "https://localhost:8080/",
          "height": 85
        },
        "outputId": "2abe8e8a-5f56-4161-b6cf-a62ebb3ee9b4"
      },
      "source": [
        "!ls 'drive/My Drive/VGG16_17'"
      ],
      "execution_count": 4,
      "outputs": [
        {
          "output_type": "stream",
          "text": [
            "CrossData_Negative_Original.csv  model2.h5  model6.h5  performance.txt\n",
            "CrossData_Positive_Original.csv  model3.h5  model7.h5  testing_ROC.png\n",
            "model10.h5\t\t\t model4.h5  model8.h5  training_ROC.png\n",
            "model1.h5\t\t\t model5.h5  model9.h5  validation_ROC.png\n"
          ],
          "name": "stdout"
        }
      ]
    },
    {
      "cell_type": "code",
      "metadata": {
        "id": "vZPYK9xmOao3",
        "colab_type": "code",
        "colab": {}
      },
      "source": [
        "from tensorflow.keras import models    \n",
        "\n",
        "model = models.load_model('drive/My Drive/VGG16_17/model1.h5')"
      ],
      "execution_count": 0,
      "outputs": []
    },
    {
      "cell_type": "code",
      "metadata": {
        "id": "Ayqreu9NOkMz",
        "colab_type": "code",
        "colab": {}
      },
      "source": [
        "def dataProcessing1(line):\n",
        "\n",
        "    \n",
        "    alphabet = np.array(['A', 'G', 'T', 'C'])\n",
        "    X = [];\n",
        "    y = [];\n",
        "    \n",
        "\n",
        "    line = list(line.strip('\\n'));\n",
        "    #scoreSequence = calculate(line);\n",
        "        \n",
        "    seq = np.array(line, dtype = '|U1').reshape(-1,1);\n",
        "    seq_data = []\n",
        "    seqrol = []\n",
        "\n",
        "    for i in range(len(seq)):\n",
        "        if seq[i] == 'A':\n",
        "            seq_data.append(rol)\n",
        "        if seq[i] == 'T':\n",
        "            seq_data.append(rol1)\n",
        "        if seq[i] == 'C':\n",
        "            seq_data.append(rol2)\n",
        "        if seq[i] == 'G':\n",
        "            seq_data.append(rol3)\n",
        "\n",
        "    for i in range(7):\n",
        "      seq_data.append(rol4)\n",
        "    X.append(np.array(seq_data));\n",
        "\n",
        "        # print(type(seq_data))\n",
        "        # seqrol.append(seq_data)\n",
        "        # print(seqrol)\n",
        "        # # for i in range(5):\n",
        "        # seq_data.append(seqrol)\n",
        "\n",
        "        # for i in range(19):\n",
        "        #   seq_data.append(rol4)\n",
        "        # X.append(np.array(seq_data));\n",
        "    \n",
        "    X = np.array(X);\n",
        "\n",
        "    # n = np.array(data['label'], dtype = np.int32).reshape(-1,1)\n",
        "    # print(n)\n",
        "    # seq_data1 = []\n",
        "\n",
        "    # for i in range(len(n)):\n",
        "    #   if i == 0:\n",
        "    #     seq_data1.append([0,0])\n",
        "    #   if i == 1:\n",
        "    #     seq_data1.append([1,1])\n",
        "\n",
        "    #   y.append(np.array(seq_data1)); \n",
        "\n",
        "    # y = np.array(y);    \n",
        "    #y = np.array(data['label'], dtype = np.int32);\n",
        " \n",
        "    return X; #(n, 41, 4), (n,)"
      ],
      "execution_count": 0,
      "outputs": []
    },
    {
      "cell_type": "code",
      "metadata": {
        "id": "ELEeA0xdPCZL",
        "colab_type": "code",
        "colab": {
          "base_uri": "https://localhost:8080/",
          "height": 71
        },
        "outputId": "181f4e3b-c4b5-44b6-9908-75ea21f56fbf"
      },
      "source": [
        "rol = []\n",
        "for x in range(48):\n",
        "  if x in range(12):\n",
        "    rol.append([1,1,1])\n",
        "  else:\n",
        "    rol.append([0,0,0])\n",
        "print(rol)\n",
        "print(type(rol))"
      ],
      "execution_count": 7,
      "outputs": [
        {
          "output_type": "stream",
          "text": [
            "[[1, 1, 1], [1, 1, 1], [1, 1, 1], [1, 1, 1], [1, 1, 1], [1, 1, 1], [1, 1, 1], [1, 1, 1], [1, 1, 1], [1, 1, 1], [1, 1, 1], [1, 1, 1], [0, 0, 0], [0, 0, 0], [0, 0, 0], [0, 0, 0], [0, 0, 0], [0, 0, 0], [0, 0, 0], [0, 0, 0], [0, 0, 0], [0, 0, 0], [0, 0, 0], [0, 0, 0], [0, 0, 0], [0, 0, 0], [0, 0, 0], [0, 0, 0], [0, 0, 0], [0, 0, 0], [0, 0, 0], [0, 0, 0], [0, 0, 0], [0, 0, 0], [0, 0, 0], [0, 0, 0], [0, 0, 0], [0, 0, 0], [0, 0, 0], [0, 0, 0], [0, 0, 0], [0, 0, 0], [0, 0, 0], [0, 0, 0], [0, 0, 0], [0, 0, 0], [0, 0, 0], [0, 0, 0]]\n",
            "<class 'list'>\n"
          ],
          "name": "stdout"
        }
      ]
    },
    {
      "cell_type": "code",
      "metadata": {
        "id": "SQK7ws3pPGWK",
        "colab_type": "code",
        "colab": {
          "base_uri": "https://localhost:8080/",
          "height": 71
        },
        "outputId": "f0025764-79e0-4eb7-9ad9-0bf92460e764"
      },
      "source": [
        "rol1 = []\n",
        "for x in range(48):\n",
        "  if x in range(12,24):\n",
        "    rol1.append([1,1,1])\n",
        "  else:\n",
        "    rol1.append([0,0,0])\n",
        "print(rol1)\n",
        "print(type(rol1))"
      ],
      "execution_count": 8,
      "outputs": [
        {
          "output_type": "stream",
          "text": [
            "[[0, 0, 0], [0, 0, 0], [0, 0, 0], [0, 0, 0], [0, 0, 0], [0, 0, 0], [0, 0, 0], [0, 0, 0], [0, 0, 0], [0, 0, 0], [0, 0, 0], [0, 0, 0], [1, 1, 1], [1, 1, 1], [1, 1, 1], [1, 1, 1], [1, 1, 1], [1, 1, 1], [1, 1, 1], [1, 1, 1], [1, 1, 1], [1, 1, 1], [1, 1, 1], [1, 1, 1], [0, 0, 0], [0, 0, 0], [0, 0, 0], [0, 0, 0], [0, 0, 0], [0, 0, 0], [0, 0, 0], [0, 0, 0], [0, 0, 0], [0, 0, 0], [0, 0, 0], [0, 0, 0], [0, 0, 0], [0, 0, 0], [0, 0, 0], [0, 0, 0], [0, 0, 0], [0, 0, 0], [0, 0, 0], [0, 0, 0], [0, 0, 0], [0, 0, 0], [0, 0, 0], [0, 0, 0]]\n",
            "<class 'list'>\n"
          ],
          "name": "stdout"
        }
      ]
    },
    {
      "cell_type": "code",
      "metadata": {
        "id": "J0JIWBjuPJPy",
        "colab_type": "code",
        "colab": {
          "base_uri": "https://localhost:8080/",
          "height": 71
        },
        "outputId": "9a0dbd80-c0c7-4040-fddf-886650e63416"
      },
      "source": [
        "rol2 = []\n",
        "for x in range(48):\n",
        "  if x in range(24,36):\n",
        "    rol2.append([1,1,1])\n",
        "  else:\n",
        "    rol2.append([0,0,0])\n",
        "print(rol2)\n",
        "print(type(rol2))"
      ],
      "execution_count": 9,
      "outputs": [
        {
          "output_type": "stream",
          "text": [
            "[[0, 0, 0], [0, 0, 0], [0, 0, 0], [0, 0, 0], [0, 0, 0], [0, 0, 0], [0, 0, 0], [0, 0, 0], [0, 0, 0], [0, 0, 0], [0, 0, 0], [0, 0, 0], [0, 0, 0], [0, 0, 0], [0, 0, 0], [0, 0, 0], [0, 0, 0], [0, 0, 0], [0, 0, 0], [0, 0, 0], [0, 0, 0], [0, 0, 0], [0, 0, 0], [0, 0, 0], [1, 1, 1], [1, 1, 1], [1, 1, 1], [1, 1, 1], [1, 1, 1], [1, 1, 1], [1, 1, 1], [1, 1, 1], [1, 1, 1], [1, 1, 1], [1, 1, 1], [1, 1, 1], [0, 0, 0], [0, 0, 0], [0, 0, 0], [0, 0, 0], [0, 0, 0], [0, 0, 0], [0, 0, 0], [0, 0, 0], [0, 0, 0], [0, 0, 0], [0, 0, 0], [0, 0, 0]]\n",
            "<class 'list'>\n"
          ],
          "name": "stdout"
        }
      ]
    },
    {
      "cell_type": "code",
      "metadata": {
        "id": "VJKOTKsCPQH7",
        "colab_type": "code",
        "colab": {
          "base_uri": "https://localhost:8080/",
          "height": 71
        },
        "outputId": "5fa82b45-c8f5-4342-f913-3fb5698d19b0"
      },
      "source": [
        "rol3 = []\n",
        "for x in range(48):\n",
        "  if x in range(36,48):\n",
        "    rol3.append([1,1,1])\n",
        "  else:\n",
        "    rol3.append([0,0,0])\n",
        "print(rol3)\n",
        "print(type(rol3))"
      ],
      "execution_count": 10,
      "outputs": [
        {
          "output_type": "stream",
          "text": [
            "[[0, 0, 0], [0, 0, 0], [0, 0, 0], [0, 0, 0], [0, 0, 0], [0, 0, 0], [0, 0, 0], [0, 0, 0], [0, 0, 0], [0, 0, 0], [0, 0, 0], [0, 0, 0], [0, 0, 0], [0, 0, 0], [0, 0, 0], [0, 0, 0], [0, 0, 0], [0, 0, 0], [0, 0, 0], [0, 0, 0], [0, 0, 0], [0, 0, 0], [0, 0, 0], [0, 0, 0], [0, 0, 0], [0, 0, 0], [0, 0, 0], [0, 0, 0], [0, 0, 0], [0, 0, 0], [0, 0, 0], [0, 0, 0], [0, 0, 0], [0, 0, 0], [0, 0, 0], [0, 0, 0], [1, 1, 1], [1, 1, 1], [1, 1, 1], [1, 1, 1], [1, 1, 1], [1, 1, 1], [1, 1, 1], [1, 1, 1], [1, 1, 1], [1, 1, 1], [1, 1, 1], [1, 1, 1]]\n",
            "<class 'list'>\n"
          ],
          "name": "stdout"
        }
      ]
    },
    {
      "cell_type": "code",
      "metadata": {
        "id": "O-gXHwGxPSup",
        "colab_type": "code",
        "colab": {
          "base_uri": "https://localhost:8080/",
          "height": 71
        },
        "outputId": "f6110189-9fe8-4dd4-e058-689bb7b49a54"
      },
      "source": [
        "rol4 = []\n",
        "for x in range(48):\n",
        "  rol4.append([0,0,0])\n",
        "print(rol4)\n",
        "print(type(rol4))"
      ],
      "execution_count": 11,
      "outputs": [
        {
          "output_type": "stream",
          "text": [
            "[[0, 0, 0], [0, 0, 0], [0, 0, 0], [0, 0, 0], [0, 0, 0], [0, 0, 0], [0, 0, 0], [0, 0, 0], [0, 0, 0], [0, 0, 0], [0, 0, 0], [0, 0, 0], [0, 0, 0], [0, 0, 0], [0, 0, 0], [0, 0, 0], [0, 0, 0], [0, 0, 0], [0, 0, 0], [0, 0, 0], [0, 0, 0], [0, 0, 0], [0, 0, 0], [0, 0, 0], [0, 0, 0], [0, 0, 0], [0, 0, 0], [0, 0, 0], [0, 0, 0], [0, 0, 0], [0, 0, 0], [0, 0, 0], [0, 0, 0], [0, 0, 0], [0, 0, 0], [0, 0, 0], [0, 0, 0], [0, 0, 0], [0, 0, 0], [0, 0, 0], [0, 0, 0], [0, 0, 0], [0, 0, 0], [0, 0, 0], [0, 0, 0], [0, 0, 0], [0, 0, 0], [0, 0, 0]]\n",
            "<class 'list'>\n"
          ],
          "name": "stdout"
        }
      ]
    },
    {
      "cell_type": "markdown",
      "metadata": {
        "id": "M5-t2BvbUmVU",
        "colab_type": "text"
      },
      "source": [
        "Input the 6mA sequence inside the brackets eg:- dataProcessing1('GTATAATTTATATTTCCAGCAGAAATAGGAACTCCATCAAG')"
      ]
    },
    {
      "cell_type": "code",
      "metadata": {
        "id": "gfngF2_HPU4k",
        "colab_type": "code",
        "colab": {}
      },
      "source": [
        "test_1 = dataProcessing1('GTATAATTTATATTTCCAGCAGAAATAGGAACTCCATCAAG');"
      ],
      "execution_count": 0,
      "outputs": []
    },
    {
      "cell_type": "code",
      "metadata": {
        "id": "yFEA7q9LPrrP",
        "colab_type": "code",
        "colab": {
          "base_uri": "https://localhost:8080/",
          "height": 51
        },
        "outputId": "deaee144-8a36-4880-b051-a3e059f74095"
      },
      "source": [
        "result = model.predict(test_1)\n",
        "print(\"Result\", result)\n",
        "if result > 0.5 :\n",
        "  print(\"6mA site\")\n",
        "else :\n",
        "  print(\"Not 6mA site\")"
      ],
      "execution_count": 13,
      "outputs": [
        {
          "output_type": "stream",
          "text": [
            "Result [[0.99994755]]\n",
            "6mA site\n"
          ],
          "name": "stdout"
        }
      ]
    }
  ]
}